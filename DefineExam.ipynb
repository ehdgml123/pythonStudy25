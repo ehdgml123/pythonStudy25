{
  "nbformat": 4,
  "nbformat_minor": 0,
  "metadata": {
    "colab": {
      "provenance": [],
      "authorship_tag": "ABX9TyMycqd7G765Zu/qM3+rrT29",
      "include_colab_link": true
    },
    "kernelspec": {
      "name": "python3",
      "display_name": "Python 3"
    },
    "language_info": {
      "name": "python"
    }
  },
  "cells": [
    {
      "cell_type": "markdown",
      "metadata": {
        "id": "view-in-github",
        "colab_type": "text"
      },
      "source": [
        "<a href=\"https://colab.research.google.com/github/ehdgml123/pythonStudy25/blob/master/DefineExam.ipynb\" target=\"_parent\"><img src=\"https://colab.research.google.com/assets/colab-badge.svg\" alt=\"Open In Colab\"/></a>"
      ]
    },
    {
      "cell_type": "code",
      "execution_count": 2,
      "metadata": {
        "colab": {
          "base_uri": "https://localhost:8080/"
        },
        "id": "NV-kMA7Fp1NC",
        "outputId": "a2e0ea19-3023-4fe8-8bad-d25ac64370bd"
      },
      "outputs": [
        {
          "output_type": "stream",
          "name": "stdout",
          "text": [
            "7\n"
          ]
        }
      ],
      "source": [
        "# def 는 함수나 메소드 를 정의하는 문법이다.\n",
        "# 파라미터 , 매개변수, 입력값\n",
        "# def 이름 (매개변수1 , 매개변수2) :\n",
        "# 들여쓰기 실행문\n",
        "# 들여쓰기 return null | 값\n",
        "\n",
        "# 함수나, 메서드는 반복적으로 수행되는 문을 따로 정의 해 놓음\n",
        "# 정의를 먼저하고 나중에 호출하여 사용한다.\n",
        "# 호출할때는 . 을 이용하여 이름을 불러오면 활용 가능함 .\n",
        "\n",
        "a = 3\n",
        "b = 4\n",
        "c = a+b\n",
        "print(c)"
      ]
    },
    {
      "cell_type": "code",
      "source": [
        "# 위 코드를 함수로 변경한다.\n",
        "\n",
        "# 정의\n",
        "def add(a,b):   # add 함수 이름을 반들고 입력은 2개를 받는다.\n",
        "    z = a + b\n",
        "    return z    # add 함수 정의 종료\n",
        "\n",
        "# 활용\n",
        "\n",
        "total = add(4,5)\n",
        "print(total)"
      ],
      "metadata": {
        "colab": {
          "base_uri": "https://localhost:8080/"
        },
        "id": "RC4L7Aydsqsb",
        "outputId": "6140b834-5175-4109-8aa1-cbb47ffd9884"
      },
      "execution_count": 4,
      "outputs": [
        {
          "output_type": "stream",
          "name": "stdout",
          "text": [
            "9\n"
          ]
        }
      ]
    },
    {
      "cell_type": "markdown",
      "source": [
        "입력값이 없는 함수"
      ],
      "metadata": {
        "id": "fKq8Wm-ZyRd7"
      }
    },
    {
      "cell_type": "code",
      "source": [
        "def say():\n",
        "    return 'Hi'"
      ],
      "metadata": {
        "id": "4YmDYPvAySzC"
      },
      "execution_count": 7,
      "outputs": []
    },
    {
      "cell_type": "code",
      "source": [
        "a = say()\n",
        "print(a)"
      ],
      "metadata": {
        "colab": {
          "base_uri": "https://localhost:8080/"
        },
        "id": "u5LHnjy4ycYZ",
        "outputId": "a0b4bca8-b65a-4080-e8fe-03db7bf8885e"
      },
      "execution_count": 8,
      "outputs": [
        {
          "output_type": "stream",
          "name": "stdout",
          "text": [
            "Hi\n"
          ]
        }
      ]
    },
    {
      "cell_type": "markdown",
      "source": [
        "리턴값이 없는 함수"
      ],
      "metadata": {
        "id": "b1Ntl0Teyu3W"
      }
    },
    {
      "cell_type": "code",
      "source": [
        "def add(a, b):\n",
        "    print(\"%d, %d의 합은 %d입니다.\" % (a,b, a+b))"
      ],
      "metadata": {
        "id": "zMPZxvXvyxkV"
      },
      "execution_count": 10,
      "outputs": []
    },
    {
      "cell_type": "code",
      "source": [
        "add(3,4)"
      ],
      "metadata": {
        "colab": {
          "base_uri": "https://localhost:8080/"
        },
        "id": "09M2DG_LzDbR",
        "outputId": "7b064aec-1cf5-4d9c-8f51-0ad3eedb7be5"
      },
      "execution_count": 11,
      "outputs": [
        {
          "output_type": "stream",
          "name": "stdout",
          "text": [
            "3, 4의 합은 7입니다.\n"
          ]
        }
      ]
    },
    {
      "cell_type": "markdown",
      "source": [
        "입력값도, 리턴값도 없는 함수"
      ],
      "metadata": {
        "id": "6HDvH9uqzoZy"
      }
    },
    {
      "cell_type": "code",
      "source": [
        "def say():\n",
        "    print('Hi')"
      ],
      "metadata": {
        "id": "gsYH2RZizpth"
      },
      "execution_count": 13,
      "outputs": []
    },
    {
      "cell_type": "code",
      "source": [
        "say()  # 함수_이름()"
      ],
      "metadata": {
        "colab": {
          "base_uri": "https://localhost:8080/"
        },
        "id": "Xpuo4cYdztzh",
        "outputId": "e20ab765-fcbc-4073-943f-036855b38364"
      },
      "execution_count": 14,
      "outputs": [
        {
          "output_type": "stream",
          "name": "stdout",
          "text": [
            "Hi\n"
          ]
        }
      ]
    },
    {
      "cell_type": "markdown",
      "source": [
        "매개변수를 지정하여 호출하기"
      ],
      "metadata": {
        "id": "l4Gg-5gxzyA5"
      }
    },
    {
      "cell_type": "code",
      "source": [
        "# 정의\n",
        "def sub(a, b):\n",
        "    return a - b"
      ],
      "metadata": {
        "id": "VrviEn7yzzhh"
      },
      "execution_count": 17,
      "outputs": []
    },
    {
      "cell_type": "code",
      "source": [
        "result = sub(a=7, b=3)\n",
        "print(result)"
      ],
      "metadata": {
        "colab": {
          "base_uri": "https://localhost:8080/"
        },
        "id": "pXkTT2Xf0NxB",
        "outputId": "83400385-9b0c-49cc-86ea-69b0d6902792"
      },
      "execution_count": 19,
      "outputs": [
        {
          "output_type": "stream",
          "name": "stdout",
          "text": [
            "4\n"
          ]
        }
      ]
    },
    {
      "cell_type": "code",
      "source": [
        "# 매개변수를 지정하면 다음과 같이 순서에 상관없이 사용할 수 있다는 장점이 있다.\n",
        "result = sub(b = 5, a=3)\n",
        "print(result)"
      ],
      "metadata": {
        "colab": {
          "base_uri": "https://localhost:8080/"
        },
        "id": "1ra2tSHL0pzx",
        "outputId": "bfdfba7d-6bf2-48b6-83ea-b8d9d88cc6cf"
      },
      "execution_count": 20,
      "outputs": [
        {
          "output_type": "stream",
          "name": "stdout",
          "text": [
            "-2\n"
          ]
        }
      ]
    },
    {
      "cell_type": "markdown",
      "source": [
        "여러 개의 입력값을 받는 함수 만들기"
      ],
      "metadata": {
        "id": "L_tshFfK1zFx"
      }
    },
    {
      "cell_type": "code",
      "source": [
        "def add_many(*args):\n",
        "    result = 0\n",
        "    for i in args:\n",
        "        result = result + i  # *args에 입력받은 모든 값을 더한다.\n",
        "    return result"
      ],
      "metadata": {
        "id": "5KL35SvU13z5"
      },
      "execution_count": 23,
      "outputs": []
    },
    {
      "cell_type": "code",
      "source": [
        "result = add_many(1,2,3)\n",
        "print(result)"
      ],
      "metadata": {
        "colab": {
          "base_uri": "https://localhost:8080/"
        },
        "id": "M4kJDGJy2IAY",
        "outputId": "23fba463-530e-432d-f796-978931efa782"
      },
      "execution_count": 25,
      "outputs": [
        {
          "output_type": "stream",
          "name": "stdout",
          "text": [
            "6\n"
          ]
        }
      ]
    },
    {
      "cell_type": "code",
      "source": [
        "result = add_many(1,2,3,4,5,6,7,8,9,10)\n",
        "print(result)"
      ],
      "metadata": {
        "colab": {
          "base_uri": "https://localhost:8080/"
        },
        "id": "Rq_NepiZ2LFo",
        "outputId": "da2a472a-282c-44d8-8d74-d1ee330831ad"
      },
      "execution_count": 26,
      "outputs": [
        {
          "output_type": "stream",
          "name": "stdout",
          "text": [
            "55\n"
          ]
        }
      ]
    },
    {
      "cell_type": "code",
      "source": [
        "def add_mul(choice, *args):\n",
        "    if choice == \"add\": # 매개변수 choice 에 \"add\" 를 입력받았을 때\n",
        "       result = 0\n",
        "       for i in args:\n",
        "        result = result + i\n",
        "    elif choice == \"nul\":\n",
        "        result = 1\n",
        "        for i in args:\n",
        "            result = result * i\n",
        "    return result"
      ],
      "metadata": {
        "id": "gwhEvJpj2fQs"
      },
      "execution_count": 28,
      "outputs": []
    },
    {
      "cell_type": "code",
      "source": [
        "result = add_mul('add', 1,2,3,4,5)\n",
        "print(result)"
      ],
      "metadata": {
        "colab": {
          "base_uri": "https://localhost:8080/"
        },
        "id": "bXDyfbes2cul",
        "outputId": "2c0374a3-bc05-4aeb-b22f-d71002849127"
      },
      "execution_count": 29,
      "outputs": [
        {
          "output_type": "stream",
          "name": "stdout",
          "text": [
            "15\n"
          ]
        }
      ]
    },
    {
      "cell_type": "code",
      "source": [
        "result = add_mul('nul', 1,2,3,4,5)\n",
        "print(result)"
      ],
      "metadata": {
        "colab": {
          "base_uri": "https://localhost:8080/"
        },
        "id": "GrGdtPcU3W34",
        "outputId": "c375cd8e-c10e-4408-b7a0-688f691883d8"
      },
      "execution_count": 30,
      "outputs": [
        {
          "output_type": "stream",
          "name": "stdout",
          "text": [
            "120\n"
          ]
        }
      ]
    },
    {
      "cell_type": "markdown",
      "source": [
        "키워드 매개변수, kwargs"
      ],
      "metadata": {
        "id": "IttEubTT3chR"
      }
    },
    {
      "cell_type": "code",
      "source": [
        "# **kwargs처럼 매개변수 이름 앞에 **을 붙이면 매개변수 kwargs는 딕셔너리가\n",
        "# 되고 모든 Key=Value 형태의 입력값이 그 딕셔너리에 저장된다는 것을 알 수 있다.\n",
        "def print_kwargs(**kwargs):\n",
        "    print(kwargs)"
      ],
      "metadata": {
        "id": "_NqGBAgA3eLc"
      },
      "execution_count": 32,
      "outputs": []
    },
    {
      "cell_type": "code",
      "source": [
        "print_kwargs(a=1)"
      ],
      "metadata": {
        "colab": {
          "base_uri": "https://localhost:8080/"
        },
        "id": "yJGKRK4E3jrg",
        "outputId": "88879f65-db98-48e3-c1d9-8606f88b0d69"
      },
      "execution_count": 34,
      "outputs": [
        {
          "output_type": "stream",
          "name": "stdout",
          "text": [
            "{'a': 1}\n"
          ]
        }
      ]
    },
    {
      "cell_type": "code",
      "source": [
        "print_kwargs(name='foo', age=3)"
      ],
      "metadata": {
        "colab": {
          "base_uri": "https://localhost:8080/"
        },
        "id": "tH3D07oX3uCQ",
        "outputId": "f4edb454-424b-4db1-b481-5835134d3ba8"
      },
      "execution_count": 35,
      "outputs": [
        {
          "output_type": "stream",
          "name": "stdout",
          "text": [
            "{'name': 'foo', 'age': 3}\n"
          ]
        }
      ]
    },
    {
      "cell_type": "markdown",
      "source": [
        "함수의 리턴값은 언제나 하나이다"
      ],
      "metadata": {
        "id": "bXyzsC5Q4P-V"
      }
    },
    {
      "cell_type": "code",
      "source": [
        "def add_and_mul(a,b):\n",
        "    return a+b, a*b"
      ],
      "metadata": {
        "id": "MEpZrCOL3wao"
      },
      "execution_count": 37,
      "outputs": []
    },
    {
      "cell_type": "code",
      "source": [
        "result = add_and_mul(3,4)"
      ],
      "metadata": {
        "id": "GCbf1YO04XL4"
      },
      "execution_count": 39,
      "outputs": []
    },
    {
      "cell_type": "code",
      "source": [
        "result1, result2 = add_and_mul(3,4)"
      ],
      "metadata": {
        "id": "NjGp5lvj4de3"
      },
      "execution_count": 40,
      "outputs": []
    },
    {
      "cell_type": "markdown",
      "source": [
        "매개변수에 초깃값 미리 설정하기"
      ],
      "metadata": {
        "id": "o4hM696i4wER"
      }
    },
    {
      "cell_type": "code",
      "source": [
        "def say_myself(name, age, man=True):\n",
        "    print(\"나의 이름은 %s 입니다\" %name)\n",
        "    print(\"나이는 %d 살입니다.\" % age)\n",
        "    if man:\n",
        "        print(\"남자입니다\")\n",
        "    else:\n",
        "        print(\"여자입니다.\")"
      ],
      "metadata": {
        "id": "3lgCg8DA4x3k"
      },
      "execution_count": 41,
      "outputs": []
    },
    {
      "cell_type": "code",
      "source": [
        "say_myself(\"박을용\", 27)"
      ],
      "metadata": {
        "colab": {
          "base_uri": "https://localhost:8080/"
        },
        "id": "--r_cMjm5Ptg",
        "outputId": "15a80fe6-100a-472e-de18-b15b60030c45"
      },
      "execution_count": 43,
      "outputs": [
        {
          "output_type": "stream",
          "name": "stdout",
          "text": [
            "나의 이름은 박을용 입니다\n",
            "나이는 27 살입니다.\n",
            "남자입니다\n"
          ]
        }
      ]
    },
    {
      "cell_type": "code",
      "source": [
        "say_myself(\"박을용\", 27, True)"
      ],
      "metadata": {
        "colab": {
          "base_uri": "https://localhost:8080/"
        },
        "id": "dkAh2_0m5YK9",
        "outputId": "a8388d8c-fa17-4f59-8ee9-91c1423be338"
      },
      "execution_count": 44,
      "outputs": [
        {
          "output_type": "stream",
          "name": "stdout",
          "text": [
            "나의 이름은 박을용 입니다\n",
            "나이는 27 살입니다.\n",
            "남자입니다\n"
          ]
        }
      ]
    },
    {
      "cell_type": "code",
      "source": [
        "say_myself(\"박응선\", 27, False)"
      ],
      "metadata": {
        "colab": {
          "base_uri": "https://localhost:8080/"
        },
        "id": "eVXa88nj5iy2",
        "outputId": "d682a60f-2fef-44e6-a59e-3c1662196fd2"
      },
      "execution_count": 46,
      "outputs": [
        {
          "output_type": "stream",
          "name": "stdout",
          "text": [
            "나의 이름은 박응선 입니다\n",
            "나이는 27 살입니다.\n",
            "여자입니다.\n"
          ]
        }
      ]
    },
    {
      "cell_type": "markdown",
      "source": [
        "함수 안에서 선언한 변수의 효력 범위"
      ],
      "metadata": {
        "id": "LQxboF8Y577E"
      }
    },
    {
      "cell_type": "code",
      "source": [
        "a = 2\n",
        "def vartest(a):\n",
        "    a = a+1"
      ],
      "metadata": {
        "id": "z9DwHQHa56rX"
      },
      "execution_count": 47,
      "outputs": []
    },
    {
      "cell_type": "code",
      "source": [
        "vartest(a)"
      ],
      "metadata": {
        "id": "-wA_7uc96A4P"
      },
      "execution_count": 48,
      "outputs": []
    },
    {
      "cell_type": "code",
      "source": [
        "print(a)"
      ],
      "metadata": {
        "colab": {
          "base_uri": "https://localhost:8080/"
        },
        "id": "mquIps006EWf",
        "outputId": "a7d0c544-ed79-4864-ff14-c237d63a757d"
      },
      "execution_count": 49,
      "outputs": [
        {
          "output_type": "stream",
          "name": "stdout",
          "text": [
            "2\n"
          ]
        }
      ]
    },
    {
      "cell_type": "code",
      "source": [
        "def vartest(hello):\n",
        "    hello = hello + 1"
      ],
      "metadata": {
        "id": "0DNh-12r6FfH"
      },
      "execution_count": 50,
      "outputs": []
    },
    {
      "cell_type": "code",
      "source": [
        "def vartest(a):\n",
        "    a = a + 1"
      ],
      "metadata": {
        "id": "hzA2HxiW6P1P"
      },
      "execution_count": 51,
      "outputs": []
    },
    {
      "cell_type": "code",
      "source": [
        "vartest(3)\n",
        "print(a)"
      ],
      "metadata": {
        "colab": {
          "base_uri": "https://localhost:8080/"
        },
        "id": "QJaItj6T6V9H",
        "outputId": "b6333d95-31ea-4a4f-9ccb-f1e0baa5a5ce"
      },
      "execution_count": 53,
      "outputs": [
        {
          "output_type": "stream",
          "name": "stdout",
          "text": [
            "2\n"
          ]
        }
      ]
    },
    {
      "cell_type": "markdown",
      "source": [
        "return 사용하기"
      ],
      "metadata": {
        "id": "6nBi_avt6yT4"
      }
    },
    {
      "cell_type": "code",
      "source": [
        "a = 1\n",
        "def vartest(a):\n",
        "    a = a +1\n",
        "    return a"
      ],
      "metadata": {
        "id": "2TLFXUQL6zpA"
      },
      "execution_count": 54,
      "outputs": []
    },
    {
      "cell_type": "code",
      "source": [
        "a = vartest(a)\n",
        "print(a)"
      ],
      "metadata": {
        "colab": {
          "base_uri": "https://localhost:8080/"
        },
        "id": "pT_96UvJ7HMP",
        "outputId": "c8e6fe19-6141-436e-f7b8-481ff6c22718"
      },
      "execution_count": 55,
      "outputs": [
        {
          "output_type": "stream",
          "name": "stdout",
          "text": [
            "2\n"
          ]
        }
      ]
    },
    {
      "cell_type": "code",
      "source": [
        "#  global 명령어 사용하기\n",
        "a = 1\n",
        "def vartest():\n",
        "    global a\n",
        "    a = a+1"
      ],
      "metadata": {
        "id": "ouf0Z_Po7aJF"
      },
      "execution_count": 56,
      "outputs": []
    },
    {
      "cell_type": "code",
      "source": [
        "vartest()\n",
        "print(a)"
      ],
      "metadata": {
        "colab": {
          "base_uri": "https://localhost:8080/"
        },
        "id": "Yqpr7FwC7hBX",
        "outputId": "df613b44-d714-45ea-ea00-43e4382f7e93"
      },
      "execution_count": 57,
      "outputs": [
        {
          "output_type": "stream",
          "name": "stdout",
          "text": [
            "2\n"
          ]
        }
      ]
    },
    {
      "cell_type": "code",
      "source": [
        "# lambda 예약어\n",
        "# 함수_이름 = lambda 매개변수1, 매개변수2, ... : 매개변수를_이용한_표현식\n",
        "\n",
        "add = lambda a, b: a+b\n",
        "result = add(3,4)\n",
        "print(result)"
      ],
      "metadata": {
        "colab": {
          "base_uri": "https://localhost:8080/"
        },
        "id": "8C5tTnCI7jg_",
        "outputId": "5c63a547-faa3-46fc-b380-09296cf0964e"
      },
      "execution_count": 61,
      "outputs": [
        {
          "output_type": "stream",
          "name": "stdout",
          "text": [
            "7\n"
          ]
        }
      ]
    },
    {
      "cell_type": "code",
      "source": [
        "def add(a,b):\n",
        "    return a+b\n",
        "\n",
        "result = add(3,4)\n",
        "print(result)"
      ],
      "metadata": {
        "colab": {
          "base_uri": "https://localhost:8080/"
        },
        "id": "yq0hEHC58KYn",
        "outputId": "fa870924-2e20-4175-c92a-fa23863103d2"
      },
      "execution_count": 62,
      "outputs": [
        {
          "output_type": "stream",
          "name": "stdout",
          "text": [
            "7\n"
          ]
        }
      ]
    }
  ]
}