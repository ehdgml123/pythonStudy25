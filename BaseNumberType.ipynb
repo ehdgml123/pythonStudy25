{
  "nbformat": 4,
  "nbformat_minor": 0,
  "metadata": {
    "colab": {
      "provenance": [],
      "toc_visible": true,
      "authorship_tag": "ABX9TyPppo6hXYWbhcNCxaCeR1xq",
      "include_colab_link": true
    },
    "kernelspec": {
      "name": "python3",
      "display_name": "Python 3"
    },
    "language_info": {
      "name": "python"
    }
  },
  "cells": [
    {
      "cell_type": "markdown",
      "metadata": {
        "id": "view-in-github",
        "colab_type": "text"
      },
      "source": [
        "<a href=\"https://colab.research.google.com/github/ehdgml123/pythonStudy25/blob/master/BaseNumberType.ipynb\" target=\"_parent\"><img src=\"https://colab.research.google.com/assets/colab-badge.svg\" alt=\"Open In Colab\"/></a>"
      ]
    },
    {
      "cell_type": "code",
      "execution_count": 4,
      "metadata": {
        "colab": {
          "base_uri": "https://localhost:8080/"
        },
        "id": "Zr5yT6lO6i3M",
        "outputId": "ba11db53-0910-41ff-acfa-4b2ea3d59ce9"
      },
      "outputs": [
        {
          "output_type": "stream",
          "name": "stdout",
          "text": [
            "123\n",
            "-123\n",
            "0\n"
          ]
        }
      ],
      "source": [
        "# 주석은 실행이 되지 않는 문구를 말한다.\n",
        "# 주석은 코드에 설명을 작성하는 부분으로 많이 사용한다.\n",
        "\n",
        "# 숫자 자료형(Number 타입) : 숫자 형태로 이루어진 자료형\n",
        "# 123 자료형\n",
        "# 12.34 실수형\n",
        "# 8진수, 16진수 등도 포함\n",
        "\n",
        "# 정수형 (integer) 양의정수, 음의 정수, 음의정수, 0 등을 표현\n",
        "a = 123       # 자바인경우 : int a = 123;\n",
        "b = -123\n",
        "c = 0\n",
        "\n",
        "print(a)\n",
        "print(b)\n",
        "print(c)\n"
      ]
    },
    {
      "cell_type": "code",
      "source": [
        "# 실수형(floating-point) : 소수점이 포함된 숫자\n",
        "\n",
        "d = 1.2\n",
        "e = -3.45\n",
        "\n",
        "print(d)\n",
        "print(e)"
      ],
      "metadata": {
        "colab": {
          "base_uri": "https://localhost:8080/"
        },
        "id": "vHK6b-ul71sD",
        "outputId": "c6c49033-4aaa-4d52-b560-a04320abbfc4"
      },
      "execution_count": 5,
      "outputs": [
        {
          "output_type": "stream",
          "name": "stdout",
          "text": [
            "1.2\n",
            "-3.45\n"
          ]
        }
      ]
    },
    {
      "cell_type": "code",
      "source": [
        "# 지수표현 방법\n",
        "f = 1.23E3     # 1.23*10^3\n",
        "g = 1.23e-3    # 1.23*10^-3\n",
        "\n",
        "print(f)\n",
        "print(g)"
      ],
      "metadata": {
        "colab": {
          "base_uri": "https://localhost:8080/"
        },
        "id": "sbaMh7gh9X6a",
        "outputId": "2691be64-094a-4131-dea9-f999a1ed4bce"
      },
      "execution_count": 10,
      "outputs": [
        {
          "output_type": "stream",
          "name": "stdout",
          "text": [
            "1230.0\n",
            "0.00123\n"
          ]
        }
      ]
    },
    {
      "cell_type": "code",
      "source": [
        "# 8진수 -> 0 ~ 7까지 8개로 구현되는 숫자\n",
        "# 16진수 -> 0 ~ F 까지 구현되는 숫자\n",
        "\n",
        "h = 0o77     # 8진수 77\n",
        "print(h)     # 10진수 변환 출력\n",
        "\n",
        "i = 0xaa     # 16진수 aa\n",
        "print(i)     # 10진수 변환 출력 170"
      ],
      "metadata": {
        "colab": {
          "base_uri": "https://localhost:8080/"
        },
        "id": "Tblh3bSj-ZAK",
        "outputId": "ea45559a-edb2-411f-f37a-9568b195c392"
      },
      "execution_count": 13,
      "outputs": [
        {
          "output_type": "stream",
          "name": "stdout",
          "text": [
            "63\n",
            "170\n"
          ]
        }
      ]
    },
    {
      "cell_type": "code",
      "source": [
        "# 사칙연산(+,-,*,/) -> 오칙연산(+, -, *, /, %: 나머지)\n",
        "\n",
        "a = 3\n",
        "b = 4\n",
        "c = a + b\n",
        "print(c)"
      ],
      "metadata": {
        "colab": {
          "base_uri": "https://localhost:8080/"
        },
        "id": "smYZ54pEAdpa",
        "outputId": "e2e61171-f314-4208-e172-fdb180d64562"
      },
      "execution_count": 15,
      "outputs": [
        {
          "output_type": "stream",
          "name": "stdout",
          "text": [
            "7\n"
          ]
        }
      ]
    },
    {
      "cell_type": "code",
      "source": [
        "d  = a - b\n",
        "print(d)"
      ],
      "metadata": {
        "colab": {
          "base_uri": "https://localhost:8080/"
        },
        "id": "pKBeSNbzGHTA",
        "outputId": "c7f394c9-fc45-42ae-99de-17b0bdc575cc"
      },
      "execution_count": 17,
      "outputs": [
        {
          "output_type": "stream",
          "name": "stdout",
          "text": [
            "0\n"
          ]
        }
      ]
    },
    {
      "cell_type": "code",
      "source": [
        "e = 7 % 3    # 나머지를 구하는 연산자\n",
        "print(e)"
      ],
      "metadata": {
        "colab": {
          "base_uri": "https://localhost:8080/"
        },
        "id": "3ssusaVbGQ9w",
        "outputId": "f4388f21-4404-4cf7-bba2-ed865b1a4777"
      },
      "execution_count": 18,
      "outputs": [
        {
          "output_type": "stream",
          "name": "stdout",
          "text": [
            "1\n"
          ]
        }
      ]
    },
    {
      "cell_type": "code",
      "source": [
        "f = 7 / 3   # 나누기를 하면 연산자\n",
        "print(f)"
      ],
      "metadata": {
        "colab": {
          "base_uri": "https://localhost:8080/"
        },
        "id": "9T6HVJ1gGhwo",
        "outputId": "57e65392-5698-44c7-c705-024dd9dcba11"
      },
      "execution_count": 20,
      "outputs": [
        {
          "output_type": "stream",
          "name": "stdout",
          "text": [
            "2.3333333333333335\n"
          ]
        }
      ]
    },
    {
      "cell_type": "code",
      "source": [
        "g = 7 // 3 # 나눈 몫을 구하는 연산자\n",
        "print(g)"
      ],
      "metadata": {
        "colab": {
          "base_uri": "https://localhost:8080/"
        },
        "id": "U271Et5oGjc_",
        "outputId": "871c0e20-92f8-467c-e646-08a18d3a3282"
      },
      "execution_count": 21,
      "outputs": [
        {
          "output_type": "stream",
          "name": "stdout",
          "text": [
            "2\n"
          ]
        }
      ]
    },
    {
      "cell_type": "code",
      "source": [
        "a = 3\n",
        "b = 4\n",
        "a ** b # a 제곱 b"
      ],
      "metadata": {
        "colab": {
          "base_uri": "https://localhost:8080/"
        },
        "id": "8H7X4-6FHGqI",
        "outputId": "89576428-78b9-4c49-a6d4-d35ec12a92a3"
      },
      "execution_count": 22,
      "outputs": [
        {
          "output_type": "execute_result",
          "data": {
            "text/plain": [
              "81"
            ]
          },
          "metadata": {},
          "execution_count": 22
        }
      ]
    },
    {
      "cell_type": "code",
      "source": [
        "# 복합연산자\n",
        "a = 1\n",
        "a = a+1 # 1 + 1\n",
        "print(a)"
      ],
      "metadata": {
        "colab": {
          "base_uri": "https://localhost:8080/"
        },
        "id": "CaJ4jptAHc7Q",
        "outputId": "b999bf52-2153-4a96-b543-01dae68443c5"
      },
      "execution_count": 23,
      "outputs": [
        {
          "output_type": "stream",
          "name": "stdout",
          "text": [
            "2\n"
          ]
        }
      ]
    },
    {
      "cell_type": "code",
      "source": [
        "a += 1  # a = a +1\n",
        "print(a)\n",
        "\n",
        "# 유사 형태 -= , *= , /= , %="
      ],
      "metadata": {
        "colab": {
          "base_uri": "https://localhost:8080/"
        },
        "id": "7RJhofEBHupn",
        "outputId": "ef57f623-f3ad-40af-8200-2261bdc0adec"
      },
      "execution_count": 24,
      "outputs": [
        {
          "output_type": "stream",
          "name": "stdout",
          "text": [
            "3\n"
          ]
        }
      ]
    }
  ]
}