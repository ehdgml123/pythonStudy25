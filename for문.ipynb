{
  "nbformat": 4,
  "nbformat_minor": 0,
  "metadata": {
    "colab": {
      "provenance": [],
      "authorship_tag": "ABX9TyOowZI1qbOpfJgfUSxs112U",
      "include_colab_link": true
    },
    "kernelspec": {
      "name": "python3",
      "display_name": "Python 3"
    },
    "language_info": {
      "name": "python"
    }
  },
  "cells": [
    {
      "cell_type": "markdown",
      "metadata": {
        "id": "view-in-github",
        "colab_type": "text"
      },
      "source": [
        "<a href=\"https://colab.research.google.com/github/ehdgml123/pythonStudy25/blob/master/for%EB%AC%B8.ipynb\" target=\"_parent\"><img src=\"https://colab.research.google.com/assets/colab-badge.svg\" alt=\"Open In Colab\"/></a>"
      ]
    },
    {
      "cell_type": "code",
      "execution_count": null,
      "metadata": {
        "colab": {
          "base_uri": "https://localhost:8080/"
        },
        "id": "7k1R_dghE8Sj",
        "outputId": "7b5be1ad-dccc-4a81-dfa1-c634e96c0d76"
      },
      "outputs": [
        {
          "output_type": "stream",
          "name": "stdout",
          "text": [
            "one\n",
            "two\n",
            "three\n"
          ]
        }
      ],
      "source": [
        "test_list = ['one', 'two', 'three']\n",
        "for i in test_list:\n",
        "    print(i)"
      ]
    },
    {
      "cell_type": "code",
      "source": [
        "# 다양한 for 문의 사용\n",
        "a = [(1,2), (3,4), (5,6)]\n",
        "for (first, last) in a:\n",
        "    print(first + last)"
      ],
      "metadata": {
        "colab": {
          "base_uri": "https://localhost:8080/"
        },
        "id": "HwXx9qcuFOAi",
        "outputId": "500578f3-d278-435d-ed8a-3b5288ad44c4"
      },
      "execution_count": null,
      "outputs": [
        {
          "output_type": "stream",
          "name": "stdout",
          "text": [
            "3\n",
            "7\n",
            "11\n"
          ]
        }
      ]
    },
    {
      "cell_type": "code",
      "source": [
        "marks = [90,25,67,45,80]\n",
        "\n",
        "number = 0\n",
        "for mark in marks :\n",
        "    number = number + 1\n",
        "    if mark >=60:\n",
        "        print(\"%d번 학생은 학겹입니다.\" % number)\n",
        "    else:\n",
        "        print(\"%d번 학생은 불합격입니다.\" % number)\n"
      ],
      "metadata": {
        "colab": {
          "base_uri": "https://localhost:8080/"
        },
        "id": "lRjwkujHFb2R",
        "outputId": "bd06285c-9ee5-4f82-cf7f-d84fd47ca788"
      },
      "execution_count": null,
      "outputs": [
        {
          "output_type": "stream",
          "name": "stdout",
          "text": [
            "1번 학생은 학겹입니다.\n",
            "2번 학생은 불합격입니다.\n",
            "3번 학생은 학겹입니다.\n",
            "4번 학생은 불합격입니다.\n",
            "5번 학생은 학겹입니다.\n"
          ]
        }
      ]
    },
    {
      "cell_type": "code",
      "source": [
        "marks = [90, 25, 67, 45, 80]\n",
        "\n",
        "number = 0\n",
        "for mark in marks:\n",
        "    number = number + 1\n",
        "    if mark < 60:\n",
        "        continue\n",
        "    print(\"%d 학생 축하합니다. 합격입니다.\" % number)"
      ],
      "metadata": {
        "colab": {
          "base_uri": "https://localhost:8080/"
        },
        "id": "EPxYPP0mF78x",
        "outputId": "5a8d57c1-b8dd-4fc6-a216-80b71e60aa3b"
      },
      "execution_count": null,
      "outputs": [
        {
          "output_type": "stream",
          "name": "stdout",
          "text": [
            "1 학생 축하합니다. 합격입니다.\n",
            "3 학생 축하합니다. 합격입니다.\n",
            "5 학생 축하합니다. 합격입니다.\n"
          ]
        }
      ]
    },
    {
      "cell_type": "code",
      "source": [
        "# for 문과 함께 자주 사용하는 range 함수\n",
        "\n",
        "a = range(10)\n",
        "a"
      ],
      "metadata": {
        "colab": {
          "base_uri": "https://localhost:8080/"
        },
        "id": "8s7ZHWx1GXh5",
        "outputId": "577ae70f-6fb6-4997-d575-994174574783"
      },
      "execution_count": null,
      "outputs": [
        {
          "output_type": "execute_result",
          "data": {
            "text/plain": [
              "range(0, 10)"
            ]
          },
          "metadata": {},
          "execution_count": 11
        }
      ]
    },
    {
      "cell_type": "code",
      "source": [
        "a = range(1, 11)\n",
        "a"
      ],
      "metadata": {
        "colab": {
          "base_uri": "https://localhost:8080/"
        },
        "id": "7bsk63zIGjeh",
        "outputId": "82c3f14b-ce72-48cc-bbe4-35a5258f2992"
      },
      "execution_count": null,
      "outputs": [
        {
          "output_type": "execute_result",
          "data": {
            "text/plain": [
              "range(1, 11)"
            ]
          },
          "metadata": {},
          "execution_count": 13
        }
      ]
    },
    {
      "cell_type": "code",
      "source": [
        "# range 함수의 예시 살펴보기\n",
        "\n",
        "add = 0\n",
        "for i in range(1, 11):\n",
        "    add = add + i\n",
        "\n",
        "print(add)"
      ],
      "metadata": {
        "colab": {
          "base_uri": "https://localhost:8080/"
        },
        "id": "OMFdONHiGpHR",
        "outputId": "5223c4ef-726b-488b-970d-482a15a130ea"
      },
      "execution_count": null,
      "outputs": [
        {
          "output_type": "stream",
          "name": "stdout",
          "text": [
            "55\n"
          ]
        }
      ]
    },
    {
      "cell_type": "code",
      "source": [
        "marks = [90, 25, 67, 45, 80]\n",
        "for number in range(len(marks)):\n",
        "    if marks[number] < 60:\n",
        "        continue\n",
        "    print(\"%d번 학생 축하합니다. 합격입니다\" % (number+1))"
      ],
      "metadata": {
        "colab": {
          "base_uri": "https://localhost:8080/"
        },
        "id": "sqzrYHZ_G0P5",
        "outputId": "74663ae8-5851-473d-b10a-10512a5c5654"
      },
      "execution_count": null,
      "outputs": [
        {
          "output_type": "stream",
          "name": "stdout",
          "text": [
            "1번 학생 축하합니다. 합격입니다\n",
            "3번 학생 축하합니다. 합격입니다\n",
            "5번 학생 축하합니다. 합격입니다\n"
          ]
        }
      ]
    },
    {
      "cell_type": "code",
      "source": [
        "for i in range(2,10):\n",
        "    for j in range(1,10):\n",
        "        print(i*j, end=\" \")\n",
        "    print('')"
      ],
      "metadata": {
        "colab": {
          "base_uri": "https://localhost:8080/"
        },
        "id": "WYPIMlktHWvp",
        "outputId": "47429af4-fd3e-4b69-d6c3-3a74ae53e740"
      },
      "execution_count": null,
      "outputs": [
        {
          "output_type": "stream",
          "name": "stdout",
          "text": [
            "2 4 6 8 10 12 14 16 18 \n",
            "3 6 9 12 15 18 21 24 27 \n",
            "4 8 12 16 20 24 28 32 36 \n",
            "5 10 15 20 25 30 35 40 45 \n",
            "6 12 18 24 30 36 42 48 54 \n",
            "7 14 21 28 35 42 49 56 63 \n",
            "8 16 24 32 40 48 56 64 72 \n",
            "9 18 27 36 45 54 63 72 81 \n"
          ]
        }
      ]
    },
    {
      "cell_type": "markdown",
      "source": [
        "리스트 컴프리헨션 사용하기"
      ],
      "metadata": {
        "id": "KuM33_dAHqAJ"
      }
    },
    {
      "cell_type": "code",
      "source": [
        "a = [1,2,3,4]\n",
        "result = []\n",
        "for num in a:\n",
        "    result.append(num*3)\n",
        "\n",
        "print(result)"
      ],
      "metadata": {
        "colab": {
          "base_uri": "https://localhost:8080/"
        },
        "id": "ff7qSjvtHrjh",
        "outputId": "b6b92c92-d2d5-4c0b-e1ed-b25e5bf07942"
      },
      "execution_count": null,
      "outputs": [
        {
          "output_type": "stream",
          "name": "stdout",
          "text": [
            "[3, 6, 9, 12]\n"
          ]
        }
      ]
    },
    {
      "cell_type": "code",
      "source": [
        "a = [1,2,3,4]\n",
        "result = [num * 3 for num in a if num % 2 == 0]\n",
        "print(result)"
      ],
      "metadata": {
        "colab": {
          "base_uri": "https://localhost:8080/"
        },
        "id": "EIXpIFbCH6E4",
        "outputId": "66cc1d20-6224-4a5e-9494-36ae5b99dbf7"
      },
      "execution_count": null,
      "outputs": [
        {
          "output_type": "stream",
          "name": "stdout",
          "text": [
            "[6, 12]\n"
          ]
        }
      ]
    },
    {
      "cell_type": "code",
      "source": [
        "result = [x*y for x in range(2,10)\n",
        "              for y in range(1,10)]\n",
        "\n",
        "print(result)"
      ],
      "metadata": {
        "colab": {
          "base_uri": "https://localhost:8080/"
        },
        "id": "2wt8yzW5IFZo",
        "outputId": "95d1bdc6-dd3f-4082-e875-2c41b72782fb"
      },
      "execution_count": null,
      "outputs": [
        {
          "output_type": "stream",
          "name": "stdout",
          "text": [
            "[2, 4, 6, 8, 10, 12, 14, 16, 18, 3, 6, 9, 12, 15, 18, 21, 24, 27, 4, 8, 12, 16, 20, 24, 28, 32, 36, 5, 10, 15, 20, 25, 30, 35, 40, 45, 6, 12, 18, 24, 30, 36, 42, 48, 54, 7, 14, 21, 28, 35, 42, 49, 56, 63, 8, 16, 24, 32, 40, 48, 56, 64, 72, 9, 18, 27, 36, 45, 54, 63, 72, 81]\n"
          ]
        }
      ]
    },
    {
      "cell_type": "code",
      "source": [
        "from re import sub\n",
        "# 실습(여러 인원 저장 후 점수 입력하기)\n",
        "\n",
        "students = []\n",
        "subjects = [\"국어\", \"영어\", \"과학\"]\n",
        "scores = {subject : {} for subject in subjects}  #  과목별 점수를 저장하는 딕셔너리\n",
        "\n",
        "run = True\n",
        "while run :\n",
        "        prompt = \"\"\"\n",
        "\n",
        "              1. 정보 등록하기\n",
        "              2. 점수 등록하기\n",
        "              3. 점수 확인하기\n",
        "              4. 점수 삭제하기\n",
        "              5. 정보 삭제하기\n",
        "              6. 점수 수정하기\n",
        "              7. 프로그램 종료하기\n",
        "\n",
        "          Enter number: \"\"\"\n",
        "        print(prompt)\n",
        "\n",
        "        select = int(input(\"번호 입력 :\"))\n",
        "        if select == 1 :\n",
        "           print(\"정보를 입력하세요\")\n",
        "           name = input(\"이름: \").strip()\n",
        "           if name in students:\n",
        "            print(\"이미 등록된 학생입니다.\")\n",
        "           else :\n",
        "             students.append(name)\n",
        "             for subject in subjects:\n",
        "                scores[subject][name] = 0\n",
        "             print(\"등록되었습니다\")\n",
        "             print(students)\n",
        "        elif select == 2 :\n",
        "            name = input(\"점수를 입력할 학생 이름:\")\n",
        "            if name in students :\n",
        "                for subject in subjects:\n",
        "                    scores[subject][name] = int(input(f\"{subject} 점수:\"))\n",
        "                print(\"등록되었습니다\")\n",
        "            else :\n",
        "                print(\"등록되지 않은 학생입니다.\")\n",
        "        elif select == 3 :\n",
        "            name = input(\"점수를 확인 할 학생 이름:\")\n",
        "            if name in students :\n",
        "                for subject in subjects:\n",
        "                    print(f\"{subject} 점수: {scores[subject][name]}\")\n",
        "                    total = sum(scores[subject].values())\n",
        "                    average = total / len(scores)\n",
        "                    print(f\"총점: {total}, 평균: {average}\")\n",
        "            else :\n",
        "                print(\"등록되지 않은 학생입니다.\")\n",
        "        elif select == 4 :\n",
        "             name = input(\"점수를 확인할 학생 이름:\")\n",
        "             if name in students :\n",
        "                students.remove(name)\n",
        "                for subject in subjects:\n",
        "                    del scores[subject][name]\n",
        "                print(\"삭제되었습니다\")\n",
        "             else :\n",
        "                print(\"등록되지 않은 학생입니다.\")\n",
        "        elif select == 5 :\n",
        "            name = input(\"정보 삭제 이름:\")\n",
        "            if name in students :\n",
        "                students.remove(name)\n",
        "                for subject in subjects:\n",
        "                    del scores[subject][name]\n",
        "                print(\"삭제되었습니다\")\n",
        "                print(students)\n",
        "            else :\n",
        "                print(\"등록되지 않은 학생입니다.\")\n",
        "        elif select == 6 :\n",
        "            name = input(\"점수 수정할 학생 이름:\")\n",
        "            if name in students :\n",
        "                for subject in subjects:\n",
        "                    scores[subject][name] = int(input(f\"{subject} 점수:\"))\n",
        "                print(\"수정되었습니다\")\n",
        "            else :\n",
        "                print(\"등록되지 않은 학생입니다.\")\n",
        "\n",
        "        elif select == 7:\n",
        "            print(\"프로그램을 종료합니다.\")\n",
        "            run = False\n",
        "        else :\n",
        "            print(\"올바른 번호를 하세여\")"
      ],
      "metadata": {
        "colab": {
          "base_uri": "https://localhost:8080/"
        },
        "id": "oRXHA-w9IUSx",
        "outputId": "88a1b2d9-282a-4c07-dfea-49e5adf025af"
      },
      "execution_count": 29,
      "outputs": [
        {
          "output_type": "stream",
          "name": "stdout",
          "text": [
            "\n",
            "\n",
            "              1. 정보 등록하기\n",
            "              2. 점수 등록하기\n",
            "              3. 점수 확인하기\n",
            "              4. 점수 삭제하기\n",
            "              5. 정보 삭제하기\n",
            "              6. 점수 수정하기\n",
            "              7. 프로그램 종료하기\n",
            "\n",
            "          Enter number: \n",
            "번호 입력 :1\n",
            "정보를 입력하세요\n",
            "이름: 김동희\n",
            "등록되었습니다\n",
            "['김동희']\n",
            "\n",
            "\n",
            "              1. 정보 등록하기\n",
            "              2. 점수 등록하기\n",
            "              3. 점수 확인하기\n",
            "              4. 점수 삭제하기\n",
            "              5. 정보 삭제하기\n",
            "              6. 점수 수정하기\n",
            "              7. 프로그램 종료하기\n",
            "\n",
            "          Enter number: \n",
            "번호 입력 :2\n",
            "점수를 입력할 학생 이름:80\n",
            "등록되지 않은 학생입니다.\n",
            "\n",
            "\n",
            "              1. 정보 등록하기\n",
            "              2. 점수 등록하기\n",
            "              3. 점수 확인하기\n",
            "              4. 점수 삭제하기\n",
            "              5. 정보 삭제하기\n",
            "              6. 점수 수정하기\n",
            "              7. 프로그램 종료하기\n",
            "\n",
            "          Enter number: \n",
            "번호 입력 :90\n",
            "올바른 번호를 하세여\n",
            "\n",
            "\n",
            "              1. 정보 등록하기\n",
            "              2. 점수 등록하기\n",
            "              3. 점수 확인하기\n",
            "              4. 점수 삭제하기\n",
            "              5. 정보 삭제하기\n",
            "              6. 점수 수정하기\n",
            "              7. 프로그램 종료하기\n",
            "\n",
            "          Enter number: \n",
            "번호 입력 :2\n",
            "점수를 입력할 학생 이름:김동희\n",
            "국어 점수:80\n",
            "영어 점수:90\n",
            "과학 점수:100\n",
            "등록되었습니다\n",
            "\n",
            "\n",
            "              1. 정보 등록하기\n",
            "              2. 점수 등록하기\n",
            "              3. 점수 확인하기\n",
            "              4. 점수 삭제하기\n",
            "              5. 정보 삭제하기\n",
            "              6. 점수 수정하기\n",
            "              7. 프로그램 종료하기\n",
            "\n",
            "          Enter number: \n",
            "번호 입력 :3\n",
            "점수를 확인 할 학생 이름:김동희\n",
            "국어 점수: 80\n",
            "총점: 80, 평균: 26.666666666666668\n",
            "영어 점수: 90\n",
            "총점: 90, 평균: 30.0\n",
            "과학 점수: 100\n",
            "총점: 100, 평균: 33.333333333333336\n",
            "\n",
            "\n",
            "              1. 정보 등록하기\n",
            "              2. 점수 등록하기\n",
            "              3. 점수 확인하기\n",
            "              4. 점수 삭제하기\n",
            "              5. 정보 삭제하기\n",
            "              6. 점수 수정하기\n",
            "              7. 프로그램 종료하기\n",
            "\n",
            "          Enter number: \n",
            "번호 입력 :7\n",
            "프로그램을 종료합니다.\n"
          ]
        }
      ]
    }
  ]
}