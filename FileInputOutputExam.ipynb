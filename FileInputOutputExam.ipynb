{
  "nbformat": 4,
  "nbformat_minor": 0,
  "metadata": {
    "colab": {
      "provenance": [],
      "authorship_tag": "ABX9TyNTdEwbpdAX97NcnqtAcgl1",
      "include_colab_link": true
    },
    "kernelspec": {
      "name": "python3",
      "display_name": "Python 3"
    },
    "language_info": {
      "name": "python"
    }
  },
  "cells": [
    {
      "cell_type": "markdown",
      "metadata": {
        "id": "view-in-github",
        "colab_type": "text"
      },
      "source": [
        "<a href=\"https://colab.research.google.com/github/ehdgml123/pythonStudy25/blob/master/FileInputOutputExam.ipynb\" target=\"_parent\"><img src=\"https://colab.research.google.com/assets/colab-badge.svg\" alt=\"Open In Colab\"/></a>"
      ]
    },
    {
      "cell_type": "code",
      "execution_count": null,
      "metadata": {
        "id": "5ZzF4LDQESZQ"
      },
      "outputs": [],
      "source": [
        "# 파이썬은 파이을 이용해서 읽고쓰기가 가능하다.\n",
        "# 과거에는 메모장으로 만든 텍스트 파이을 사용했었는데\n",
        "# 최근에는 엑셀로 만든 csv 파일을 활용하기도 한다.\n",
        "\n",
        "# 코렙은 리눅스 가상머신을 활용하고 있다.\n",
        "# 왼쪽에 폴더 아이콘을 선택하면 리눅그 커널이 보인다.\n",
        "# .. 을 누르면 상위폴더로 간다.\n",
        "# 대부분 우리는 content 라는 풀더에 데이터 를 활용한다.\n",
        "# 파일을 열고 사용하려면 open() 함수를 활용한다.\n",
        "# 파일객체 = open(파일이름, 모드)\n",
        "#                   r = 읽기 전용\n",
        "#                   w = 쓰기 가능\n",
        "#                   a = 추가 기능\n",
        "# 주의 사항 : 파일을 열고 처리후 마지막에는 .close() 필수\n",
        "# 파일경로 c:\\user\\kkw\\test.csv 이런 파일을 열고 싶으면??\n",
        "# c:\\\\user\\\\kkw\\\\test.csv 처럼 \\\\ 을 써야 \\ 인식한다. (이스케이프)\n",
        "# c:/user/kkw/test/csv 로 사용함"
      ]
    },
    {
      "cell_type": "code",
      "source": [
        "f = open(\"새파일.txt\", \"w\")\n",
        "for i in range(1,11):   # 1 ~ 10 까지 반복하며 i에 넣은\n",
        "    data = \"%d 번째 줄입니다. \\n\" % i # i값을 활용하여 텍스트에 기록\n",
        "    f.write(data)       # 위에서 마든 문자열을 파일에 기록\n",
        "f.close()"
      ],
      "metadata": {
        "id": "BVoFYVg8Nf29"
      },
      "execution_count": null,
      "outputs": []
    },
    {
      "cell_type": "code",
      "source": [
        "f = open(\"새파일.txt\", \"r\")\n",
        "line = f.readline()\n",
        "print(line)\n",
        "f.close()"
      ],
      "metadata": {
        "colab": {
          "base_uri": "https://localhost:8080/"
        },
        "id": "gyi1Xz3ZOme8",
        "outputId": "2c11326f-130f-4dff-da74-f408afaee692"
      },
      "execution_count": null,
      "outputs": [
        {
          "output_type": "stream",
          "name": "stdout",
          "text": [
            "1 번째 줄입니다. \n",
            "\n"
          ]
        }
      ]
    },
    {
      "cell_type": "code",
      "source": [
        "# 모든 줄을 읽어 화면에 출력하고 싶을때\n",
        "f = open(\"새파일.txt\", \"r\")\n",
        "while True:\n",
        "    line = f.readline()\n",
        "    if not line: break\n",
        "    print(line)\n",
        "f.close()"
      ],
      "metadata": {
        "colab": {
          "base_uri": "https://localhost:8080/"
        },
        "id": "Zm46Ij6NO_MI",
        "outputId": "f1491db1-58df-4fd7-c882-807ae361580a"
      },
      "execution_count": null,
      "outputs": [
        {
          "output_type": "stream",
          "name": "stdout",
          "text": [
            "1 번째 줄입니다. \n",
            "\n",
            "2 번째 줄입니다. \n",
            "\n",
            "3 번째 줄입니다. \n",
            "\n",
            "4 번째 줄입니다. \n",
            "\n",
            "5 번째 줄입니다. \n",
            "\n",
            "6 번째 줄입니다. \n",
            "\n",
            "7 번째 줄입니다. \n",
            "\n",
            "8 번째 줄입니다. \n",
            "\n",
            "9 번째 줄입니다. \n",
            "\n",
            "10 번째 줄입니다. \n",
            "\n"
          ]
        }
      ]
    },
    {
      "cell_type": "code",
      "source": [
        "# 용자의 입력을 받아 그 내용을 출력하는 경우\n",
        "while True:\n",
        "    data = input()\n",
        "    if not data: break\n",
        "    print(data)"
      ],
      "metadata": {
        "colab": {
          "base_uri": "https://localhost:8080/",
          "height": 393
        },
        "id": "KDDGGAUCQn7U",
        "outputId": "c0aecfbf-6bf1-421a-eb49-7cdf8cd8efad"
      },
      "execution_count": null,
      "outputs": [
        {
          "output_type": "error",
          "ename": "KeyboardInterrupt",
          "evalue": "Interrupted by user",
          "traceback": [
            "\u001b[0;31m---------------------------------------------------------------------------\u001b[0m",
            "\u001b[0;31mKeyboardInterrupt\u001b[0m                         Traceback (most recent call last)",
            "\u001b[0;32m<ipython-input-8-4efc8e553465>\u001b[0m in \u001b[0;36m<cell line: 0>\u001b[0;34m()\u001b[0m\n\u001b[1;32m      1\u001b[0m \u001b[0;31m# 용자의 입력을 받아 그 내용을 출력하는 경우\u001b[0m\u001b[0;34m\u001b[0m\u001b[0;34m\u001b[0m\u001b[0m\n\u001b[1;32m      2\u001b[0m \u001b[0;32mwhile\u001b[0m \u001b[0;32mTrue\u001b[0m\u001b[0;34m:\u001b[0m\u001b[0;34m\u001b[0m\u001b[0;34m\u001b[0m\u001b[0m\n\u001b[0;32m----> 3\u001b[0;31m     \u001b[0mdata\u001b[0m \u001b[0;34m=\u001b[0m \u001b[0minput\u001b[0m\u001b[0;34m(\u001b[0m\u001b[0;34m)\u001b[0m\u001b[0;34m\u001b[0m\u001b[0;34m\u001b[0m\u001b[0m\n\u001b[0m\u001b[1;32m      4\u001b[0m     \u001b[0;32mif\u001b[0m \u001b[0;32mnot\u001b[0m \u001b[0mdata\u001b[0m\u001b[0;34m:\u001b[0m \u001b[0;32mbreak\u001b[0m\u001b[0;34m\u001b[0m\u001b[0;34m\u001b[0m\u001b[0m\n\u001b[1;32m      5\u001b[0m     \u001b[0mprint\u001b[0m\u001b[0;34m(\u001b[0m\u001b[0mdata\u001b[0m\u001b[0;34m)\u001b[0m\u001b[0;34m\u001b[0m\u001b[0;34m\u001b[0m\u001b[0m\n",
            "\u001b[0;32m/usr/local/lib/python3.11/dist-packages/ipykernel/kernelbase.py\u001b[0m in \u001b[0;36mraw_input\u001b[0;34m(self, prompt)\u001b[0m\n\u001b[1;32m   1175\u001b[0m                 \u001b[0;34m\"raw_input was called, but this frontend does not support input requests.\"\u001b[0m\u001b[0;34m\u001b[0m\u001b[0;34m\u001b[0m\u001b[0m\n\u001b[1;32m   1176\u001b[0m             )\n\u001b[0;32m-> 1177\u001b[0;31m         return self._input_request(\n\u001b[0m\u001b[1;32m   1178\u001b[0m             \u001b[0mstr\u001b[0m\u001b[0;34m(\u001b[0m\u001b[0mprompt\u001b[0m\u001b[0;34m)\u001b[0m\u001b[0;34m,\u001b[0m\u001b[0;34m\u001b[0m\u001b[0;34m\u001b[0m\u001b[0m\n\u001b[1;32m   1179\u001b[0m             \u001b[0mself\u001b[0m\u001b[0;34m.\u001b[0m\u001b[0m_parent_ident\u001b[0m\u001b[0;34m[\u001b[0m\u001b[0;34m\"shell\"\u001b[0m\u001b[0;34m]\u001b[0m\u001b[0;34m,\u001b[0m\u001b[0;34m\u001b[0m\u001b[0;34m\u001b[0m\u001b[0m\n",
            "\u001b[0;32m/usr/local/lib/python3.11/dist-packages/ipykernel/kernelbase.py\u001b[0m in \u001b[0;36m_input_request\u001b[0;34m(self, prompt, ident, parent, password)\u001b[0m\n\u001b[1;32m   1217\u001b[0m             \u001b[0;32mexcept\u001b[0m \u001b[0mKeyboardInterrupt\u001b[0m\u001b[0;34m:\u001b[0m\u001b[0;34m\u001b[0m\u001b[0;34m\u001b[0m\u001b[0m\n\u001b[1;32m   1218\u001b[0m                 \u001b[0;31m# re-raise KeyboardInterrupt, to truncate traceback\u001b[0m\u001b[0;34m\u001b[0m\u001b[0;34m\u001b[0m\u001b[0m\n\u001b[0;32m-> 1219\u001b[0;31m                 \u001b[0;32mraise\u001b[0m \u001b[0mKeyboardInterrupt\u001b[0m\u001b[0;34m(\u001b[0m\u001b[0;34m\"Interrupted by user\"\u001b[0m\u001b[0;34m)\u001b[0m \u001b[0;32mfrom\u001b[0m \u001b[0;32mNone\u001b[0m\u001b[0;34m\u001b[0m\u001b[0;34m\u001b[0m\u001b[0m\n\u001b[0m\u001b[1;32m   1220\u001b[0m             \u001b[0;32mexcept\u001b[0m \u001b[0mException\u001b[0m\u001b[0;34m:\u001b[0m\u001b[0;34m\u001b[0m\u001b[0;34m\u001b[0m\u001b[0m\n\u001b[1;32m   1221\u001b[0m                 \u001b[0mself\u001b[0m\u001b[0;34m.\u001b[0m\u001b[0mlog\u001b[0m\u001b[0;34m.\u001b[0m\u001b[0mwarning\u001b[0m\u001b[0;34m(\u001b[0m\u001b[0;34m\"Invalid Message:\"\u001b[0m\u001b[0;34m,\u001b[0m \u001b[0mexc_info\u001b[0m\u001b[0;34m=\u001b[0m\u001b[0;32mTrue\u001b[0m\u001b[0;34m)\u001b[0m\u001b[0;34m\u001b[0m\u001b[0;34m\u001b[0m\u001b[0m\n",
            "\u001b[0;31mKeyboardInterrupt\u001b[0m: Interrupted by user"
          ]
        }
      ]
    },
    {
      "cell_type": "markdown",
      "source": [
        "readlines 함수 사용하기"
      ],
      "metadata": {
        "id": "tF9KkBUpR1ND"
      }
    },
    {
      "cell_type": "code",
      "source": [
        "# readlines 함수는 파일의 모든 줄을 읽어서 각각의 줄을 요소로 가지는 리스트를 리턴\n",
        "\n",
        "f = open(\"새파일.txt\", 'r')\n",
        "lines = f.readlines()\n",
        "for line in lines:\n",
        "    print(line)\n",
        "f.close()"
      ],
      "metadata": {
        "colab": {
          "base_uri": "https://localhost:8080/"
        },
        "id": "E5DlCf5iQs1b",
        "outputId": "7e8d45b4-655d-4cc8-ba01-e664b1a7da11"
      },
      "execution_count": null,
      "outputs": [
        {
          "output_type": "stream",
          "name": "stdout",
          "text": [
            "1 번째 줄입니다. \n",
            "\n",
            "2 번째 줄입니다. \n",
            "\n",
            "3 번째 줄입니다. \n",
            "\n",
            "4 번째 줄입니다. \n",
            "\n",
            "5 번째 줄입니다. \n",
            "\n",
            "6 번째 줄입니다. \n",
            "\n",
            "7 번째 줄입니다. \n",
            "\n",
            "8 번째 줄입니다. \n",
            "\n",
            "9 번째 줄입니다. \n",
            "\n",
            "10 번째 줄입니다. \n",
            "\n"
          ]
        }
      ]
    },
    {
      "cell_type": "markdown",
      "source": [
        "read 함수 사용하기"
      ],
      "metadata": {
        "id": "mo2yI6lFSeAf"
      }
    },
    {
      "cell_type": "code",
      "source": [
        "# f.read()는 파일의 내용 전체를 문자열로 리턴한다. 따라서 위 예의 data는 파일의 전체 내용이다.\n",
        "\n",
        "f = open(\"새파일.txt\", 'r')\n",
        "data = f.read()\n",
        "print(data)\n",
        "f.close()"
      ],
      "metadata": {
        "colab": {
          "base_uri": "https://localhost:8080/"
        },
        "id": "gjZH0Cf1SfMr",
        "outputId": "9b8251ca-0709-47e9-ef8a-b4882e264f3a"
      },
      "execution_count": 11,
      "outputs": [
        {
          "output_type": "stream",
          "name": "stdout",
          "text": [
            "1 번째 줄입니다. \n",
            "2 번째 줄입니다. \n",
            "3 번째 줄입니다. \n",
            "4 번째 줄입니다. \n",
            "5 번째 줄입니다. \n",
            "6 번째 줄입니다. \n",
            "7 번째 줄입니다. \n",
            "8 번째 줄입니다. \n",
            "9 번째 줄입니다. \n",
            "10 번째 줄입니다. \n",
            "\n"
          ]
        }
      ]
    },
    {
      "cell_type": "markdown",
      "source": [
        "파일 객체를 for 문과 함께 사용하기"
      ],
      "metadata": {
        "id": "nd8MlZ0FS_Kv"
      }
    },
    {
      "cell_type": "code",
      "source": [
        "# 파일 객체(f)는 기본적으로 위와 같이 for 문과 함께 사용하여 파일을 줄 단위로 읽을 수 있다.\n",
        "\n",
        "f = open(\"새파일.txt\", 'r')\n",
        "for line in f:\n",
        "    print(line)\n",
        "f.close()"
      ],
      "metadata": {
        "colab": {
          "base_uri": "https://localhost:8080/"
        },
        "id": "wzOJS9IiS9_L",
        "outputId": "f2e6724c-c12a-4eb6-9a82-c528602c6616"
      },
      "execution_count": 12,
      "outputs": [
        {
          "output_type": "stream",
          "name": "stdout",
          "text": [
            "1 번째 줄입니다. \n",
            "\n",
            "2 번째 줄입니다. \n",
            "\n",
            "3 번째 줄입니다. \n",
            "\n",
            "4 번째 줄입니다. \n",
            "\n",
            "5 번째 줄입니다. \n",
            "\n",
            "6 번째 줄입니다. \n",
            "\n",
            "7 번째 줄입니다. \n",
            "\n",
            "8 번째 줄입니다. \n",
            "\n",
            "9 번째 줄입니다. \n",
            "\n",
            "10 번째 줄입니다. \n",
            "\n"
          ]
        }
      ]
    },
    {
      "cell_type": "markdown",
      "source": [
        "파일에 새로운 내용 추가하기"
      ],
      "metadata": {
        "id": "Q6lMi8dPTYz_"
      }
    },
    {
      "cell_type": "code",
      "source": [
        " # 쓰기모드('w') 로 파일을 열 때 이미 존재하는 파일을 열면 그 내용이 사라진다\n",
        " # 원래 있던 값을 유지하면서 단지 새로운 값만 추가해야 할 경우도 있다\n",
        " # 이런 경우 'a' 로 열면 된다.\n",
        "f = open(\"새파일.txt\", 'a')\n",
        "for i in range(11, 20):\n",
        "    data = \"%d번째 줄입니다.\\n\" % i\n",
        "    f.write(data)\n",
        "f.close()"
      ],
      "metadata": {
        "id": "fAAE36g-TV7j"
      },
      "execution_count": 13,
      "outputs": []
    },
    {
      "cell_type": "code",
      "source": [],
      "metadata": {
        "id": "yp8Xcjw9Twq2"
      },
      "execution_count": null,
      "outputs": []
    }
  ]
}