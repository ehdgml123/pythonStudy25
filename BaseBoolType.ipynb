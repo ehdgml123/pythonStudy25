{
  "nbformat": 4,
  "nbformat_minor": 0,
  "metadata": {
    "colab": {
      "provenance": [],
      "authorship_tag": "ABX9TyN5mHQvrmhO4ecCaJo3cEaO",
      "include_colab_link": true
    },
    "kernelspec": {
      "name": "python3",
      "display_name": "Python 3"
    },
    "language_info": {
      "name": "python"
    }
  },
  "cells": [
    {
      "cell_type": "markdown",
      "metadata": {
        "id": "view-in-github",
        "colab_type": "text"
      },
      "source": [
        "<a href=\"https://colab.research.google.com/github/ehdgml123/pythonStudy25/blob/master/BaseBoolType.ipynb\" target=\"_parent\"><img src=\"https://colab.research.google.com/assets/colab-badge.svg\" alt=\"Open In Colab\"/></a>"
      ]
    },
    {
      "cell_type": "markdown",
      "source": [
        "불 자료형"
      ],
      "metadata": {
        "id": "Lst1kepi8xNd"
      }
    },
    {
      "cell_type": "markdown",
      "source": [
        "불(bool) 자료형이란 참(True)과 거짓(False)을 나타내는 자료형이다. 불 자료형은 다음 2가지 값만을 가질 수 있다.\n",
        "\n",
        "- True: 참을 의미한다.\n",
        "- False: 거짓을 의미한다."
      ],
      "metadata": {
        "id": "jhL_yC1k8zd8"
      }
    },
    {
      "cell_type": "code",
      "source": [
        "a = True\n",
        "b = False"
      ],
      "metadata": {
        "id": "9pZ62_QI84NM"
      },
      "execution_count": 1,
      "outputs": []
    },
    {
      "cell_type": "code",
      "execution_count": 3,
      "metadata": {
        "colab": {
          "base_uri": "https://localhost:8080/"
        },
        "id": "EersNtKr8vBF",
        "outputId": "f887c4cc-8923-4202-895d-8d39780537c9"
      },
      "outputs": [
        {
          "output_type": "execute_result",
          "data": {
            "text/plain": [
              "bool"
            ]
          },
          "metadata": {},
          "execution_count": 3
        }
      ],
      "source": [
        "type(a)\n",
        "type(b)"
      ]
    },
    {
      "cell_type": "code",
      "source": [
        "1 == 1"
      ],
      "metadata": {
        "colab": {
          "base_uri": "https://localhost:8080/"
        },
        "id": "l_UyeTql9VhZ",
        "outputId": "49d78bb3-3b38-4dcd-e90e-aa43e520214b"
      },
      "execution_count": 5,
      "outputs": [
        {
          "output_type": "execute_result",
          "data": {
            "text/plain": [
              "True"
            ]
          },
          "metadata": {},
          "execution_count": 5
        }
      ]
    },
    {
      "cell_type": "code",
      "source": [
        "2 > 1"
      ],
      "metadata": {
        "colab": {
          "base_uri": "https://localhost:8080/"
        },
        "id": "hBny7GMX9Xts",
        "outputId": "1fe9b5aa-553a-4a3f-e240-07d6c9f81011"
      },
      "execution_count": 7,
      "outputs": [
        {
          "output_type": "execute_result",
          "data": {
            "text/plain": [
              "True"
            ]
          },
          "metadata": {},
          "execution_count": 7
        }
      ]
    },
    {
      "cell_type": "code",
      "source": [
        "2 < 1"
      ],
      "metadata": {
        "colab": {
          "base_uri": "https://localhost:8080/"
        },
        "id": "k-PfRF5j9ZPr",
        "outputId": "7b27468d-030f-4844-9fb5-5ddd77a5fec9"
      },
      "execution_count": 9,
      "outputs": [
        {
          "output_type": "execute_result",
          "data": {
            "text/plain": [
              "False"
            ]
          },
          "metadata": {},
          "execution_count": 9
        }
      ]
    },
    {
      "cell_type": "code",
      "source": [
        "#while 조건문:\n",
        "#    수행할_문장\n",
        "\n",
        "\n",
        "a = [1,2,3,4]\n",
        "while a:\n",
        "  print(a.pop())"
      ],
      "metadata": {
        "colab": {
          "base_uri": "https://localhost:8080/"
        },
        "id": "hLEUH9qM9bs8",
        "outputId": "16b63ccc-61fd-4e7c-c422-18173222ca29"
      },
      "execution_count": 10,
      "outputs": [
        {
          "output_type": "stream",
          "name": "stdout",
          "text": [
            "4\n",
            "3\n",
            "2\n",
            "1\n"
          ]
        }
      ]
    },
    {
      "cell_type": "code",
      "source": [
        "if [] :\n",
        "     print(\"참\")\n",
        "else:\n",
        "     print(\"거짓\")"
      ],
      "metadata": {
        "colab": {
          "base_uri": "https://localhost:8080/"
        },
        "id": "3WaKSb789phY",
        "outputId": "1c55877b-dcac-4fa6-a422-ab07aead091e"
      },
      "execution_count": 12,
      "outputs": [
        {
          "output_type": "stream",
          "name": "stdout",
          "text": [
            "거짓\n"
          ]
        }
      ]
    },
    {
      "cell_type": "code",
      "source": [
        "if [1,2,3]:\n",
        "     print(\"참\")\n",
        "else:\n",
        "    print(\"거짓\")"
      ],
      "metadata": {
        "colab": {
          "base_uri": "https://localhost:8080/"
        },
        "id": "M9pG3t_990PM",
        "outputId": "f62d627b-ab84-4e3b-ac15-34bb9822873a"
      },
      "execution_count": 13,
      "outputs": [
        {
          "output_type": "stream",
          "name": "stdout",
          "text": [
            "참\n"
          ]
        }
      ]
    },
    {
      "cell_type": "markdown",
      "source": [
        "불 연산"
      ],
      "metadata": {
        "id": "cp8hgDdt9-g0"
      }
    },
    {
      "cell_type": "code",
      "source": [
        "bool('python')"
      ],
      "metadata": {
        "colab": {
          "base_uri": "https://localhost:8080/"
        },
        "id": "3LtpS7mj9_i4",
        "outputId": "367a92eb-2ab4-4811-d037-cb6e5f3042ce"
      },
      "execution_count": 15,
      "outputs": [
        {
          "output_type": "execute_result",
          "data": {
            "text/plain": [
              "True"
            ]
          },
          "metadata": {},
          "execution_count": 15
        }
      ]
    },
    {
      "cell_type": "code",
      "source": [
        "bool('')"
      ],
      "metadata": {
        "colab": {
          "base_uri": "https://localhost:8080/"
        },
        "id": "mMpMKBuV-Bmj",
        "outputId": "27d8ee91-b173-4493-f61b-0f50c8870864"
      },
      "execution_count": 17,
      "outputs": [
        {
          "output_type": "execute_result",
          "data": {
            "text/plain": [
              "False"
            ]
          },
          "metadata": {},
          "execution_count": 17
        }
      ]
    },
    {
      "cell_type": "code",
      "source": [
        "bool([1,2,3])"
      ],
      "metadata": {
        "colab": {
          "base_uri": "https://localhost:8080/"
        },
        "id": "U03rRdTU-DTT",
        "outputId": "f5467e92-6e60-4aab-8828-1350b3ddc4aa"
      },
      "execution_count": 19,
      "outputs": [
        {
          "output_type": "execute_result",
          "data": {
            "text/plain": [
              "True"
            ]
          },
          "metadata": {},
          "execution_count": 19
        }
      ]
    },
    {
      "cell_type": "code",
      "source": [
        "bool([])"
      ],
      "metadata": {
        "colab": {
          "base_uri": "https://localhost:8080/"
        },
        "id": "CkLdyC3L-Fbr",
        "outputId": "94fab497-52a3-40e0-a004-30ad23d13cfb"
      },
      "execution_count": 21,
      "outputs": [
        {
          "output_type": "execute_result",
          "data": {
            "text/plain": [
              "False"
            ]
          },
          "metadata": {},
          "execution_count": 21
        }
      ]
    },
    {
      "cell_type": "code",
      "source": [
        "bool(0)"
      ],
      "metadata": {
        "colab": {
          "base_uri": "https://localhost:8080/"
        },
        "id": "MASrdkM4-HyT",
        "outputId": "88371f3c-ec54-4eaa-abff-8eee009c6329"
      },
      "execution_count": 22,
      "outputs": [
        {
          "output_type": "execute_result",
          "data": {
            "text/plain": [
              "False"
            ]
          },
          "metadata": {},
          "execution_count": 22
        }
      ]
    },
    {
      "cell_type": "code",
      "source": [
        "bool(3)"
      ],
      "metadata": {
        "colab": {
          "base_uri": "https://localhost:8080/"
        },
        "id": "-cwh-IQ9-IzD",
        "outputId": "3f901346-04f3-461c-fe38-a1b59aeed553"
      },
      "execution_count": 23,
      "outputs": [
        {
          "output_type": "execute_result",
          "data": {
            "text/plain": [
              "True"
            ]
          },
          "metadata": {},
          "execution_count": 23
        }
      ]
    }
  ]
}