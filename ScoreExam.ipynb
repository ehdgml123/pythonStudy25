{
  "nbformat": 4,
  "nbformat_minor": 0,
  "metadata": {
    "colab": {
      "provenance": [],
      "authorship_tag": "ABX9TyPzwIqnSruLkajuA9lCdk7N",
      "include_colab_link": true
    },
    "kernelspec": {
      "name": "python3",
      "display_name": "Python 3"
    },
    "language_info": {
      "name": "python"
    }
  },
  "cells": [
    {
      "cell_type": "markdown",
      "metadata": {
        "id": "view-in-github",
        "colab_type": "text"
      },
      "source": [
        "<a href=\"https://colab.research.google.com/github/ehdgml123/pythonStudy25/blob/master/ScoreExam.ipynb\" target=\"_parent\"><img src=\"https://colab.research.google.com/assets/colab-badge.svg\" alt=\"Open In Colab\"/></a>"
      ]
    },
    {
      "cell_type": "code",
      "execution_count": 8,
      "metadata": {
        "colab": {
          "base_uri": "https://localhost:8080/"
        },
        "id": "urYGdQZjOvjO",
        "outputId": "0544b3f9-a5be-497f-d43d-38fc7597964e"
      },
      "outputs": [
        {
          "output_type": "stream",
          "name": "stdout",
          "text": [
            "============================================================\n",
            "개인정보 입력하세요\n",
            "이름 :김동희\n",
            "나이 :25\n",
            "주소 : 수원\n",
            "============================================================\n",
            "김동희 님 환영합니다.\n",
            "============================================================\n",
            "김동희 님의 성적을 입력하세요\n",
            "국어 성적 :98\n",
            "영어 성적 :70\n",
            "수학 성적 :60\n",
            "파이썬 성적 :80\n",
            "성적을 확인합니다.\n",
            "국어 : 98 \t 영어 : 70 \t 수학 : 60 \t 파이썬 80 \t\n",
            "============================================================\n",
            "입력하신 성적을 수정하시겠나요?\n",
            "수정: y , 아니요 : n n\n",
            "============================================================\n",
            "총점과 평균을 출력할까요 ?\n",
            "출력 : y \t 아니요 : n : y\n",
            "김동희 님의 총점은 308 , 평균은 77 입니다\n"
          ]
        }
      ],
      "source": [
        "from re import A\n",
        "# 성적처리용 프로그램을 만들어본다.\n",
        "# 1. 키보드로 개인정보를 입력 받는다.\n",
        "# 2. 키보드로 성적을 입력 받는다 (국어, 영어, 수학, 파이썬)\n",
        "# 3. 입력된 정보를 확인한다. -> 잘못된 정보를 수정한다.\n",
        "# 4. 통계를 만들어 출력한다.\n",
        "# 5. 등급을 출력하고 종료한다.\n",
        "\n",
        "print(\"=\" * 60)\n",
        "print(\"개인정보 입력하세요\")\n",
        "name = input(\"이름 :\")\n",
        "age = input(\"나이 :\")\n",
        "add = input(\"주소 : \")\n",
        "print(\"=\" * 60)\n",
        "print(\"%s 님 환영합니다.\" % name)\n",
        "print(\"=\" * 60)\n",
        "print(\"%s 님의 성적을 입력하세요\" % name)\n",
        "kor = int(input(\"국어 성적 :\"))\n",
        "eng = int(input(\"영어 성적 :\"))\n",
        "mat = int(input(\"수학 성적 :\"))\n",
        "pyt = int(input(\"파이썬 성적 :\"))\n",
        "print(\"성적을 확인합니다.\")\n",
        "print(\"국어 : %d \\t 영어 : %d \\t 수학 : %d \\t 파이썬 %d \\t\" % (kor, eng, mat, pyt))\n",
        "print(\"=\" * 60)\n",
        "print(\"입력하신 성적을 수정하시겠나요?\")\n",
        "modi = input(\"수정: y , 아니요 : n \")\n",
        "if modi == \"y\" :\n",
        "    print(\"성적수정을 진행합니다.\")\n",
        "    kor = int(input(\"국어 성적 :\"))\n",
        "    eng = int(input(\"영어 성적 :\"))\n",
        "    mat = int(input(\"수학 성적 :\"))\n",
        "    pyt = int(input(\"파이썬 성적 :\"))\n",
        "    print(\"성적이 수정되었습니다.\")\n",
        "    print(\"국어 : %d \\t 영어 : %d \\t 수학 : %d \\t 파이썬 %d \\t\" % (kor, eng, mat, pyt))\n",
        "tot = kor + eng + mat + pyt\n",
        "ave = tot / 4\n",
        "print(\"=\" * 60)\n",
        "print(\"총점과 평균을 출력할까요 ?\")\n",
        "que = input(\"출력 : y \\t 아니요 : n : \")\n",
        "if que == \"y\" :\n",
        "    print(\"%s 님의 총점은 %d , 평균은 %d 입니다\" % (name , tot, ave))\n",
        "\n",
        "print(\"=\" * 60)\n",
        "print(\"%s 님의 등급을 출력 할까요?\")\n",
        "que1 = input(\"출력 : y \\t 아니요 : n : \")\n",
        "if que1 == \"y\" :\n",
        "    if ave >= 90 : # 평균이 90점 이상이면 A\n",
        "        grade = \"A\"\n",
        "    elif ave >= 80 :\n",
        "        grade = \"B\"\n",
        "    elif ave >= 70 :\n",
        "        grade = \"C\"\n",
        "    elif ave >= 60 :\n",
        "        grade = \"D\"\n",
        "    else :\n",
        "        grade = \"F\"\n",
        "\n",
        "    print(\"=\" * 60)\n",
        "    print(\"%s 님의 등급은 %s 입니다.\" % (name , grade))\n",
        "\n",
        "print(\"=\" * 60)\n",
        "print(\"프로그램을 종료합니다.\")"
      ]
    },
    {
      "cell_type": "code",
      "source": [
        "print(\"=\" * 60)\n",
        "print(\"개인정보 를 입력하세요\")\n",
        "name = input(\"이름 :\")\n",
        "age = input(\"나이 :\")\n",
        "add = input(\"주소 : \")\n",
        "print(\"=\" * 60)\n",
        "print(\"성적을 입력하겠습니다. 그전에 정보를 입력하셨나요?\")\n",
        "po = input(\"네 : y , 아니요 : n :\")\n",
        "if po == \"y\" :\n",
        "    kor = int(input(\"국어 성적 :\"))\n",
        "    eng = int(input(\"영어 성적 :\"))\n",
        "    si = int(input(\"과학 성적 :\"))\n",
        "    print(\"%s 님의 성적은 수학 %d , 영어 %d , 과학 : %d\" % (name, kor, eng, si))\n",
        "else :\n",
        "    print(\"정보를 입력해주세요\")\n",
        "    name = input(\"이름 :\")\n",
        "    age = input(\"나이 :\")\n",
        "    add = input(\"주소 : \")\n",
        "    print(\"%s 님 환영합니다.\" % name)\n",
        "    print(\"성적을 입력하겠습니다.\")\n",
        "    kor = int(input(\"국어 성적 :\"))\n",
        "    eng = int(input(\"영어 성적 :\"))\n",
        "    si = int(input(\"과학 성적 :\"))\n",
        "    print(\"%s 님의 성적은 수학 %d , 영어 %d , 과학 : %d\" % (name, kor, eng, si))\n",
        "print(\"=\" * 60)\n",
        "print(\"총점 , 평균 출력하시겠습니까?.\")\n",
        "po1 = input(\"네 : y , 아니요 : n : \")\n",
        "if po1 == \"y\" :\n",
        "    total = kor + eng + si\n",
        "    avg = total / 3\n",
        "    print(\"%s 님의 총점 : %d , 평균은 : %d 입니다.\" % (name , total, avg))\n",
        "print(\"=\" * 60)\n",
        "print(\"등급을 출력하시겠습니까 ?\")\n",
        "po2 = input(\"네 : y , 아니요 : n : \")\n",
        "if po2 == \"y\" :\n",
        "     avg >= 90 :\n",
        "     print(\"%s 님의 등급은 A입니다\" % name)\n",
        "     avg >= 70 :\n",
        "     print(\"%s 님의 등급은 B입니다\" % name)\n",
        "     avg >= 50 :\n",
        "     print(\"%s 님의 등급은 C입니다\" % name)\n",
        "else\n",
        "      print(\"%s 님의 등급은 F입니다\" % name)\n",
        "print(\"프로그램 을 종료합니다!\")"
      ],
      "metadata": {
        "colab": {
          "base_uri": "https://localhost:8080/"
        },
        "id": "h7RUez5BbuNB",
        "outputId": "37bd5fcd-0ade-42ac-b86b-689239776b20"
      },
      "execution_count": 16,
      "outputs": [
        {
          "output_type": "stream",
          "name": "stdout",
          "text": [
            "============================================================\n",
            "개인정보 를 입력하세요\n",
            "이름 :김동희\n",
            "나이 :25\n",
            "주소 : 경기도\n",
            "============================================================\n",
            "성적을 입력하겠습니다. 그전에 정보를 입력하셨나요?\n",
            "네 : y , 아니요 : n :y\n",
            "국어 성적 :80\n",
            "영어 성적 :90\n",
            "과학 성적 :40\n",
            "김동희 님의 성적은 수학 80 , 영어 90 , 과학 : 40\n",
            "============================================================\n",
            "총접 , 평균 출력하시겠습니까?.\n",
            "네 : y , 아니여 : ny\n",
            "김동희 님의 총점 : 210 , 평균은 : 70 입니다.\n"
          ]
        }
      ]
    }
  ]
}